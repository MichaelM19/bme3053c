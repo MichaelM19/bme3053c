{
  "nbformat": 4,
  "nbformat_minor": 0,
  "metadata": {
    "colab": {
      "provenance": [],
      "authorship_tag": "ABX9TyMljQ9IICG1fLTH7Wfp8loh",
      "include_colab_link": true
    },
    "kernelspec": {
      "name": "python3",
      "display_name": "Python 3"
    },
    "language_info": {
      "name": "python"
    }
  },
  "cells": [
    {
      "cell_type": "markdown",
      "metadata": {
        "id": "view-in-github",
        "colab_type": "text"
      },
      "source": [
        "<a href=\"https://colab.research.google.com/github/MichaelM19/bme3053c/blob/main/HW2.ipynb\" target=\"_parent\"><img src=\"https://colab.research.google.com/assets/colab-badge.svg\" alt=\"Open In Colab\"/></a>"
      ]
    },
    {
      "cell_type": "code",
      "execution_count": 25,
      "metadata": {
        "colab": {
          "base_uri": "https://localhost:8080/"
        },
        "id": "mtMTX70Dpmma",
        "outputId": "792c4b5d-6b5e-4503-bde3-952012601145"
      },
      "outputs": [
        {
          "output_type": "stream",
          "name": "stdout",
          "text": [
            "Enter list of systolic blood pressure readings: [120, 137, 151, 123, 162, 173, 127, 154]\n",
            "[0.0, 0.32075471698113206, 0.5849056603773585, 0.05660377358490566, 0.7924528301886793, 1.0, 0.1320754716981132, 0.6415094339622641]\n"
          ]
        }
      ],
      "source": [
        "# Homework 2 Systolic Blood Pressure Reading Normalizer\n",
        "\n",
        "in_list = input(\"Enter list of systolic blood pressure readings: \")\n",
        "# take away brackets and make each number in the input list its own string, effectivlely removing the commas\n",
        "in_list = in_list.strip('[]').split(',')\n",
        "\n",
        "def normalizer (f_list):\n",
        "\n",
        "# convert input list from str to float\n",
        "  f_list = []\n",
        "  for item in in_list:\n",
        "    f_list.append(float(item))\n",
        "\n",
        "# find min and max values from edited input list and create empty normalized list\n",
        "  min_val = float(min(f_list))\n",
        "  max_val = float(max(f_list))\n",
        "  norm_list = []\n",
        "\n",
        "# iterate through edited input list, normazlizing each value, and adding it to the end of the normalied list\n",
        "  for i in range(len(f_list)):\n",
        "    norm_val = (f_list[i] - min_val)/(max_val-min_val)\n",
        "    norm_list.append(norm_val)\n",
        "  return norm_list\n",
        "\n",
        "# run input list through the function and print\n",
        "out_list = normalizer(in_list)\n",
        "print(out_list)"
      ]
    }
  ]
}